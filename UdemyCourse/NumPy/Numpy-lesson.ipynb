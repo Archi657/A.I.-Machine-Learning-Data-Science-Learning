{
 "cells": [
  {
   "cell_type": "code",
   "execution_count": 1,
   "id": "df41acf0-c777-4d6e-8dd3-528420a11439",
   "metadata": {},
   "outputs": [],
   "source": [
    "import numpy as np"
   ]
  },
  {
   "cell_type": "markdown",
   "id": "e65dedaa-e068-4fac-9aea-b10af8162d1e",
   "metadata": {},
   "source": [
    "## Datatypes & Attributes"
   ]
  },
  {
   "cell_type": "code",
   "execution_count": 2,
   "id": "2a1795b5-536c-4833-a481-3674eef07c95",
   "metadata": {},
   "outputs": [
    {
     "data": {
      "text/plain": [
       "array([[[1, 2, 3],\n",
       "        [5, 8, 5]],\n",
       "\n",
       "       [[5, 7, 3],\n",
       "        [6, 5, 2]]])"
      ]
     },
     "execution_count": 2,
     "metadata": {},
     "output_type": "execute_result"
    }
   ],
   "source": [
    "a1 = np.array([1,2,3])\n",
    "a2 = np.array([[1,2.6,3.4],\n",
    "               [4,3,51]])\n",
    "a3 = np.array([[[1,2,3],\n",
    "              [5,8,5]],\n",
    "              [[5,7,3],\n",
    "              [6,5,2]]])\n",
    "a3"
   ]
  },
  {
   "cell_type": "code",
   "execution_count": 3,
   "id": "2c6a9ac5-3ae9-4ba7-999d-da09a90d0642",
   "metadata": {},
   "outputs": [
    {
     "data": {
      "text/plain": [
       "(2, 3)"
      ]
     },
     "execution_count": 3,
     "metadata": {},
     "output_type": "execute_result"
    }
   ],
   "source": [
    "a2.shape"
   ]
  },
  {
   "cell_type": "code",
   "execution_count": 4,
   "id": "7b7208b5-dc5a-4806-87d5-1391f50460da",
   "metadata": {},
   "outputs": [
    {
     "data": {
      "text/plain": [
       "(1, 2, 3)"
      ]
     },
     "execution_count": 4,
     "metadata": {},
     "output_type": "execute_result"
    }
   ],
   "source": [
    "a1.ndim, a2.ndim, a3.ndim"
   ]
  },
  {
   "cell_type": "code",
   "execution_count": 5,
   "id": "6ffe776b-79a0-4581-bc6f-5e390778d803",
   "metadata": {},
   "outputs": [
    {
     "data": {
      "text/plain": [
       "(dtype('int32'), dtype('float64'), dtype('int32'))"
      ]
     },
     "execution_count": 5,
     "metadata": {},
     "output_type": "execute_result"
    }
   ],
   "source": [
    "a1.dtype, a2.dtype, a3.dtype"
   ]
  },
  {
   "cell_type": "code",
   "execution_count": 6,
   "id": "849e897c-0b9e-4442-b3aa-0090c588c812",
   "metadata": {},
   "outputs": [
    {
     "data": {
      "text/plain": [
       "(3, 6, 12)"
      ]
     },
     "execution_count": 6,
     "metadata": {},
     "output_type": "execute_result"
    }
   ],
   "source": [
    "a1.size, a2.size, a3.size #quantity of elements"
   ]
  },
  {
   "cell_type": "code",
   "execution_count": 7,
   "id": "a2d0e681-134a-4b73-9d8d-29a826e68b82",
   "metadata": {},
   "outputs": [
    {
     "data": {
      "text/html": [
       "<div>\n",
       "<style scoped>\n",
       "    .dataframe tbody tr th:only-of-type {\n",
       "        vertical-align: middle;\n",
       "    }\n",
       "\n",
       "    .dataframe tbody tr th {\n",
       "        vertical-align: top;\n",
       "    }\n",
       "\n",
       "    .dataframe thead th {\n",
       "        text-align: right;\n",
       "    }\n",
       "</style>\n",
       "<table border=\"1\" class=\"dataframe\">\n",
       "  <thead>\n",
       "    <tr style=\"text-align: right;\">\n",
       "      <th></th>\n",
       "      <th>0</th>\n",
       "      <th>1</th>\n",
       "      <th>2</th>\n",
       "    </tr>\n",
       "  </thead>\n",
       "  <tbody>\n",
       "    <tr>\n",
       "      <th>0</th>\n",
       "      <td>1.0</td>\n",
       "      <td>2.6</td>\n",
       "      <td>3.4</td>\n",
       "    </tr>\n",
       "    <tr>\n",
       "      <th>1</th>\n",
       "      <td>4.0</td>\n",
       "      <td>3.0</td>\n",
       "      <td>51.0</td>\n",
       "    </tr>\n",
       "  </tbody>\n",
       "</table>\n",
       "</div>"
      ],
      "text/plain": [
       "     0    1     2\n",
       "0  1.0  2.6   3.4\n",
       "1  4.0  3.0  51.0"
      ]
     },
     "execution_count": 7,
     "metadata": {},
     "output_type": "execute_result"
    }
   ],
   "source": [
    "import pandas as pd\n",
    "df = pd.DataFrame(a2)\n",
    "df"
   ]
  },
  {
   "cell_type": "markdown",
   "id": "7ce63ea4-2e6e-4cf4-9db4-36e52b43d5af",
   "metadata": {},
   "source": [
    "## Creating arrays"
   ]
  },
  {
   "cell_type": "code",
   "execution_count": 8,
   "id": "a57e64e7-0453-44ca-a443-2ad7fd47cbc1",
   "metadata": {},
   "outputs": [
    {
     "data": {
      "text/plain": [
       "array([[1., 1., 1.],\n",
       "       [1., 1., 1.]])"
      ]
     },
     "execution_count": 8,
     "metadata": {},
     "output_type": "execute_result"
    }
   ],
   "source": [
    "sample_array = np.array([1, 2 , 3])\n",
    "ones = np.ones((2, 3))\n",
    "ones"
   ]
  },
  {
   "cell_type": "code",
   "execution_count": 9,
   "id": "4a24ff83-23ac-4259-8230-02c945da38aa",
   "metadata": {},
   "outputs": [
    {
     "data": {
      "text/plain": [
       "array([[0., 0., 0.],\n",
       "       [0., 0., 0.]])"
      ]
     },
     "execution_count": 9,
     "metadata": {},
     "output_type": "execute_result"
    }
   ],
   "source": [
    "zeros = np.zeros((2,3))\n",
    "zeros"
   ]
  },
  {
   "cell_type": "code",
   "execution_count": 10,
   "id": "17bd0876-30bc-467d-a694-a3bdbbbb21f5",
   "metadata": {},
   "outputs": [
    {
     "data": {
      "text/plain": [
       "array([0, 2, 4, 6, 8])"
      ]
     },
     "execution_count": 10,
     "metadata": {},
     "output_type": "execute_result"
    }
   ],
   "source": [
    "range_array = np.arange(0, 10, 2)\n",
    "range_array"
   ]
  },
  {
   "cell_type": "code",
   "execution_count": 11,
   "id": "f4354553-4845-4b71-abeb-55ce067ad339",
   "metadata": {},
   "outputs": [
    {
     "data": {
      "text/plain": [
       "array([[4, 4, 5, 2, 4],\n",
       "       [9, 4, 7, 1, 3],\n",
       "       [1, 0, 6, 4, 4]])"
      ]
     },
     "execution_count": 11,
     "metadata": {},
     "output_type": "execute_result"
    }
   ],
   "source": [
    "random_array = np.random.randint(0, 10, size=(3, 5))\n",
    "random_array"
   ]
  },
  {
   "cell_type": "code",
   "execution_count": 12,
   "id": "c022912c-b070-4543-839b-24b9371168ef",
   "metadata": {},
   "outputs": [
    {
     "data": {
      "text/plain": [
       "array([[0.7635761 , 0.6180526 , 0.3324206 ],\n",
       "       [0.68887287, 0.62791349, 0.43155147],\n",
       "       [0.55150333, 0.5680881 , 0.41617719],\n",
       "       [0.68216091, 0.28535615, 0.52587294],\n",
       "       [0.70351691, 0.92589447, 0.59171315]])"
      ]
     },
     "execution_count": 12,
     "metadata": {},
     "output_type": "execute_result"
    }
   ],
   "source": [
    "random_array_2 = np.random.random((5,3))\n",
    "random_array_2"
   ]
  },
  {
   "cell_type": "code",
   "execution_count": 13,
   "id": "8224b60d-19e2-4eac-8d0c-a03b5aea3614",
   "metadata": {},
   "outputs": [
    {
     "data": {
      "text/plain": [
       "(5, 3)"
      ]
     },
     "execution_count": 13,
     "metadata": {},
     "output_type": "execute_result"
    }
   ],
   "source": [
    "random_array_2.shape"
   ]
  },
  {
   "cell_type": "code",
   "execution_count": 14,
   "id": "d4135624-abbb-40a6-baf4-c38788071d2e",
   "metadata": {},
   "outputs": [],
   "source": [
    "# Pseudo-random numbers\n",
    "np.random.seed()"
   ]
  },
  {
   "cell_type": "markdown",
   "id": "2d000e9d-f3e9-4262-9886-0c8ae9200232",
   "metadata": {},
   "source": [
    "## 3. View arrays and matrices"
   ]
  },
  {
   "cell_type": "code",
   "execution_count": 15,
   "id": "e2371361-aa5b-4e08-82c1-929ae22dea02",
   "metadata": {},
   "outputs": [
    {
     "data": {
      "text/plain": [
       "array([0.28535615, 0.3324206 , 0.41617719, 0.43155147, 0.52587294,\n",
       "       0.55150333, 0.5680881 , 0.59171315, 0.6180526 , 0.62791349,\n",
       "       0.68216091, 0.68887287, 0.70351691, 0.7635761 , 0.92589447])"
      ]
     },
     "execution_count": 15,
     "metadata": {},
     "output_type": "execute_result"
    }
   ],
   "source": [
    "np.unique(random_array_2)"
   ]
  },
  {
   "cell_type": "code",
   "execution_count": 16,
   "id": "d66b6a75-0507-4c48-b54b-b471a57d692b",
   "metadata": {},
   "outputs": [
    {
     "data": {
      "text/plain": [
       "array([[[[8, 6, 6, 4, 7],\n",
       "         [0, 3, 2, 4, 4],\n",
       "         [9, 8, 6, 4, 7],\n",
       "         [6, 2, 0, 5, 3]],\n",
       "\n",
       "        [[3, 3, 0, 9, 4],\n",
       "         [3, 0, 0, 7, 9],\n",
       "         [8, 8, 5, 2, 6],\n",
       "         [6, 6, 5, 9, 8]],\n",
       "\n",
       "        [[9, 0, 0, 7, 0],\n",
       "         [3, 9, 1, 9, 1],\n",
       "         [0, 9, 8, 7, 3],\n",
       "         [8, 1, 0, 9, 7]]],\n",
       "\n",
       "\n",
       "       [[[3, 8, 4, 6, 6],\n",
       "         [6, 7, 0, 4, 3],\n",
       "         [1, 7, 9, 9, 4],\n",
       "         [2, 4, 9, 2, 1]],\n",
       "\n",
       "        [[2, 5, 7, 2, 1],\n",
       "         [6, 3, 6, 5, 1],\n",
       "         [4, 6, 0, 6, 6],\n",
       "         [7, 9, 0, 1, 1]],\n",
       "\n",
       "        [[6, 4, 8, 6, 7],\n",
       "         [3, 4, 0, 5, 7],\n",
       "         [4, 4, 6, 1, 4],\n",
       "         [6, 6, 1, 5, 0]]]])"
      ]
     },
     "execution_count": 16,
     "metadata": {},
     "output_type": "execute_result"
    }
   ],
   "source": [
    "a4 = np.random.randint(10, size=(2,3,4,5))\n",
    "a4"
   ]
  },
  {
   "cell_type": "code",
   "execution_count": 20,
   "id": "b230cbce-2550-421d-9ae8-2eba3cd635ae",
   "metadata": {},
   "outputs": [
    {
     "data": {
      "text/plain": [
       "array([6, 4])"
      ]
     },
     "execution_count": 20,
     "metadata": {},
     "output_type": "execute_result"
    }
   ],
   "source": [
    "a4[1,2,0,:2]"
   ]
  },
  {
   "cell_type": "markdown",
   "id": "df0b78f2-c01f-4336-9694-209d09380651",
   "metadata": {},
   "source": [
    "## 4. Manipulating & comparing arrays\n",
    "### Arithmetic"
   ]
  },
  {
   "cell_type": "code",
   "execution_count": 21,
   "id": "24ceacd9-af08-4dc1-ae0c-c8f489cf8d95",
   "metadata": {},
   "outputs": [
    {
     "data": {
      "text/plain": [
       "array([1, 2, 3])"
      ]
     },
     "execution_count": 21,
     "metadata": {},
     "output_type": "execute_result"
    }
   ],
   "source": [
    "a1"
   ]
  },
  {
   "cell_type": "code",
   "execution_count": 23,
   "id": "49f46e34-915d-46f3-9e38-020c1d76f56d",
   "metadata": {},
   "outputs": [
    {
     "data": {
      "text/plain": [
       "array([1., 1., 1.])"
      ]
     },
     "execution_count": 23,
     "metadata": {},
     "output_type": "execute_result"
    }
   ],
   "source": [
    "ones = np.ones(3)\n",
    "ones"
   ]
  },
  {
   "cell_type": "code",
   "execution_count": 24,
   "id": "7233a20c-2cf2-4ab6-80b5-fe8b895f48d0",
   "metadata": {},
   "outputs": [
    {
     "data": {
      "text/plain": [
       "array([2., 3., 4.])"
      ]
     },
     "execution_count": 24,
     "metadata": {},
     "output_type": "execute_result"
    }
   ],
   "source": [
    "a1 + ones"
   ]
  },
  {
   "cell_type": "code",
   "execution_count": 25,
   "id": "eb6c39bf-e854-4097-be20-b4ac05b7de71",
   "metadata": {},
   "outputs": [
    {
     "data": {
      "text/plain": [
       "array([0.38539381, 0.9441343 , 0.37713582, 0.78138492, 0.39614921,\n",
       "       0.54465844, 0.0965368 , 0.84625672, 0.3725462 , 0.36410166])"
      ]
     },
     "execution_count": 25,
     "metadata": {},
     "output_type": "execute_result"
    }
   ],
   "source": [
    "massive_array = np.random.random(1000)\n",
    "massive_array[:10]"
   ]
  },
  {
   "cell_type": "code",
   "execution_count": 26,
   "id": "b766c437-bd84-4389-8e01-b7212544d039",
   "metadata": {},
   "outputs": [
    {
     "name": "stdout",
     "output_type": "stream",
     "text": [
      "124 µs ± 10.4 µs per loop (mean ± std. dev. of 7 runs, 10,000 loops each)\n",
      "6.09 µs ± 41.2 ns per loop (mean ± std. dev. of 7 runs, 100,000 loops each)\n"
     ]
    }
   ],
   "source": [
    "%timeit sum(massive_array)\n",
    "%timeit np.sum(massive_array)"
   ]
  },
  {
   "cell_type": "code",
   "execution_count": 28,
   "id": "a6257469-66f3-48f8-86c7-c1bc7a8844e0",
   "metadata": {},
   "outputs": [
    {
     "data": {
      "text/plain": [
       "323.5255555555555"
      ]
     },
     "execution_count": 28,
     "metadata": {},
     "output_type": "execute_result"
    }
   ],
   "source": [
    "#a mesure of how spread out a group of numbers is of the mean\n",
    "np.std(a2)\n",
    "#mesure of the average degree to which each number is diff to the mean\n",
    "np.var(a2)\n",
    "#np.sqrt"
   ]
  },
  {
   "cell_type": "code",
   "execution_count": 30,
   "id": "ed6b8473-8b80-4dad-9bf9-5627fb4e4b10",
   "metadata": {},
   "outputs": [],
   "source": [
    "high_array = np.array([1,100,200,300,4000,5000])\n",
    "low_array = np.array([2, 4, 6, 8, 10])"
   ]
  },
  {
   "cell_type": "code",
   "execution_count": 31,
   "id": "e8cb8723-b77d-4c57-86e4-83e9927486ac",
   "metadata": {},
   "outputs": [
    {
     "data": {
      "text/plain": [
       "(4296133.472222221, 8.0)"
      ]
     },
     "execution_count": 31,
     "metadata": {},
     "output_type": "execute_result"
    }
   ],
   "source": [
    "np.var(high_array), np.var(low_array)"
   ]
  },
  {
   "cell_type": "code",
   "execution_count": 32,
   "id": "c8833129-3a25-4350-a277-29ff5ecec3c1",
   "metadata": {},
   "outputs": [
    {
     "data": {
      "text/plain": [
       "(2072.711623024829, 2.8284271247461903)"
      ]
     },
     "execution_count": 32,
     "metadata": {},
     "output_type": "execute_result"
    }
   ],
   "source": [
    "np.std(high_array), np.std(low_array)"
   ]
  },
  {
   "cell_type": "code",
   "execution_count": 33,
   "id": "b3eab44a-7493-4a3f-8e23-5134e42b8dc9",
   "metadata": {},
   "outputs": [
    {
     "data": {
      "image/png": "[encoded data removed]",
      "text/plain": [
       "<Figure size 640x480 with 1 Axes>"
      ]
     },
     "metadata": {},
     "output_type": "display_data"
    }
   ],
   "source": [
    "%matplotlib inline\n",
    "import matplotlib.pyplot as plt\n",
    "plt.hist(high_array)\n",
    "plt.show()"
   ]
  },
  {
   "cell_type": "code",
   "execution_count": 34,
   "id": "d5cf80bd-eb38-4289-a55a-624ed26347c2",
   "metadata": {},
   "outputs": [
    {
     "data": {
      "text/plain": [
       "(array([[ 1. ,  2.6,  3.4],\n",
       "        [ 4. ,  3. , 51. ]]),\n",
       " array([[[1, 2, 3],\n",
       "         [5, 8, 5]],\n",
       " \n",
       "        [[5, 7, 3],\n",
       "         [6, 5, 2]]]))"
      ]
     },
     "execution_count": 34,
     "metadata": {},
     "output_type": "execute_result"
    }
   ],
   "source": [
    "a2, a3"
   ]
  },
  {
   "cell_type": "code",
   "execution_count": 35,
   "id": "6a43f6ee-99cc-4641-a227-c99cc397da25",
   "metadata": {},
   "outputs": [
    {
     "data": {
      "text/plain": [
       "((2, 3), (2, 2, 3))"
      ]
     },
     "execution_count": 35,
     "metadata": {},
     "output_type": "execute_result"
    }
   ],
   "source": [
    "a2.shape, a3.shape"
   ]
  },
  {
   "cell_type": "code",
   "execution_count": 38,
   "id": "374e7c4f-4f16-446d-b99b-1e8c2fcf62a5",
   "metadata": {},
   "outputs": [],
   "source": [
    "a2_reshape = a2.reshape(2, 3, 1).shape"
   ]
  },
  {
   "cell_type": "code",
   "execution_count": 40,
   "id": "2004a695-ab6e-45b7-985c-13e6bcda8846",
   "metadata": {},
   "outputs": [
    {
     "data": {
      "text/plain": [
       "array([[[ 2,  6,  3],\n",
       "        [10, 24,  5]],\n",
       "\n",
       "       [[10, 21,  3],\n",
       "        [12, 15,  2]]])"
      ]
     },
     "execution_count": 40,
     "metadata": {},
     "output_type": "execute_result"
    }
   ],
   "source": [
    "a2_reshape * a3"
   ]
  },
  {
   "cell_type": "code",
   "execution_count": 41,
   "id": "7f12ffa6-bddc-47f9-ba66-f0077e94987f",
   "metadata": {},
   "outputs": [
    {
     "data": {
      "text/plain": [
       "array([[ 1. ,  4. ],\n",
       "       [ 2.6,  3. ],\n",
       "       [ 3.4, 51. ]])"
      ]
     },
     "execution_count": 41,
     "metadata": {},
     "output_type": "execute_result"
    }
   ],
   "source": [
    "a2.T"
   ]
  },
  {
   "cell_type": "markdown",
   "id": "cf2f4bf4-88e1-44b9-ae2c-101461212dce",
   "metadata": {},
   "source": [
    "## Dot product"
   ]
  },
  {
   "cell_type": "code",
   "execution_count": 44,
   "id": "d226d4f5-cab7-4675-97f2-16c6debaa6db",
   "metadata": {},
   "outputs": [],
   "source": [
    "np.random.seed(0)\n",
    "mat1 = np.random.randint(10, size=(5, 3))\n",
    "mat2 = np.random.randint(10, size=(5, 3))"
   ]
  },
  {
   "cell_type": "code",
   "execution_count": 45,
   "id": "1a8b00d3-fdd6-4121-9b15-426f72d45e3b",
   "metadata": {},
   "outputs": [
    {
     "data": {
      "text/plain": [
       "array([[5, 0, 3],\n",
       "       [3, 7, 9],\n",
       "       [3, 5, 2],\n",
       "       [4, 7, 6],\n",
       "       [8, 8, 1]])"
      ]
     },
     "execution_count": 45,
     "metadata": {},
     "output_type": "execute_result"
    }
   ],
   "source": [
    "mat1"
   ]
  },
  {
   "cell_type": "code",
   "execution_count": 46,
   "id": "73b02e4c-73b6-4be1-b591-8959f4283a85",
   "metadata": {},
   "outputs": [
    {
     "data": {
      "text/plain": [
       "array([[6, 7, 7],\n",
       "       [8, 1, 5],\n",
       "       [9, 8, 9],\n",
       "       [4, 3, 0],\n",
       "       [3, 5, 0]])"
      ]
     },
     "execution_count": 46,
     "metadata": {},
     "output_type": "execute_result"
    }
   ],
   "source": [
    "mat2"
   ]
  },
  {
   "cell_type": "markdown",
   "id": "0fd3da06-8775-4193-8c15-0da1728799a8",
   "metadata": {},
   "source": [
    "### dot product"
   ]
  },
  {
   "cell_type": "code",
   "execution_count": 47,
   "id": "aed5c976-f16e-4eb8-8281-5ff341a4e8f4",
   "metadata": {},
   "outputs": [
    {
     "data": {
      "text/plain": [
       "array([[5, 3, 3, 4, 8],\n",
       "       [0, 7, 5, 7, 8],\n",
       "       [3, 9, 2, 6, 1]])"
      ]
     },
     "execution_count": 47,
     "metadata": {},
     "output_type": "execute_result"
    }
   ],
   "source": [
    "mat1.T"
   ]
  },
  {
   "cell_type": "code",
   "execution_count": 48,
   "id": "cb38bafe-165d-4da1-b658-ecc00919e0f3",
   "metadata": {},
   "outputs": [],
   "source": [
    "mat3 = np.dot(mat1, mat2.T)"
   ]
  },
  {
   "cell_type": "code",
   "execution_count": 49,
   "id": "2c95bd21-cb86-4f87-a9cf-b270390cacb7",
   "metadata": {},
   "outputs": [
    {
     "data": {
      "text/plain": [
       "array([[ 51,  55,  72,  20,  15],\n",
       "       [130,  76, 164,  33,  44],\n",
       "       [ 67,  39,  85,  27,  34],\n",
       "       [115,  69, 146,  37,  47],\n",
       "       [111,  77, 145,  56,  64]])"
      ]
     },
     "execution_count": 49,
     "metadata": {},
     "output_type": "execute_result"
    }
   ],
   "source": [
    "mat3"
   ]
  }
 ],
 "metadata": {
  "kernelspec": {
   "display_name": "Python 3 (ipykernel)",
   "language": "python",
   "name": "python3"
  },
  "language_info": {
   "codemirror_mode": {
    "name": "ipython",
    "version": 3
   },
   "file_extension": ".py",
   "mimetype": "text/x-python",
   "name": "python",
   "nbconvert_exporter": "python",
   "pygments_lexer": "ipython3",
   "version": "3.10.13"
  }
 },
 "nbformat": 4,
 "nbformat_minor": 5
}
